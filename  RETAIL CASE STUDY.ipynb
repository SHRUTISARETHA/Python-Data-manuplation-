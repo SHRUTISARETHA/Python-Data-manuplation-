{
 "cells": [
  {
   "cell_type": "markdown",
   "metadata": {},
   "source": [
    "### Importing modules"
   ]
  },
  {
   "cell_type": "code",
   "execution_count": 1,
   "metadata": {},
   "outputs": [],
   "source": [
    "import pandas as pd\n",
    "import numpy as np\n",
    "import datetime"
   ]
  },
  {
   "cell_type": "code",
   "execution_count": 2,
   "metadata": {},
   "outputs": [],
   "source": [
    "Customer=pd.read_csv('Customer.csv')\n",
    "Product_hierarchy=pd.read_csv('prod_cat_info.csv')\n",
    "Transaction=pd.read_csv('Transactions.csv')"
   ]
  },
  {
   "cell_type": "markdown",
   "metadata": {},
   "source": [
    "### 1. Merge the datasets Customers, Product Hierarchy and Transactions as Customer_Final. Ensure to keep all customers who have done transactions with us and select the join type accordingly."
   ]
  },
  {
   "cell_type": "code",
   "execution_count": 3,
   "metadata": {},
   "outputs": [],
   "source": [
    "# 1. Merging\n",
    "Customer_Trans = pd.merge(left = Customer,\n",
    "                          right = Transaction,\n",
    "                          left_on = 'customer_Id',\n",
    "                          right_on = 'cust_id',\n",
    "                          how = 'inner',\n",
    "                          indicator = True)"
   ]
  },
  {
   "cell_type": "code",
   "execution_count": 4,
   "metadata": {},
   "outputs": [],
   "source": [
    "Customer_Final = pd.merge(left = Customer_Trans,\n",
    "                          right = Product_hierarchy,\n",
    "                          left_on = 'prod_cat_code',\n",
    "                          right_on = 'prod_cat_code',\n",
    "                          how = 'inner'\n",
    "                          )"
   ]
  },
  {
   "cell_type": "code",
   "execution_count": 5,
   "metadata": {},
   "outputs": [
    {
     "data": {
      "text/html": [
       "<div>\n",
       "<style scoped>\n",
       "    .dataframe tbody tr th:only-of-type {\n",
       "        vertical-align: middle;\n",
       "    }\n",
       "\n",
       "    .dataframe tbody tr th {\n",
       "        vertical-align: top;\n",
       "    }\n",
       "\n",
       "    .dataframe thead th {\n",
       "        text-align: right;\n",
       "    }\n",
       "</style>\n",
       "<table border=\"1\" class=\"dataframe\">\n",
       "  <thead>\n",
       "    <tr style=\"text-align: right;\">\n",
       "      <th></th>\n",
       "      <th>customer_Id</th>\n",
       "      <th>DOB</th>\n",
       "      <th>Gender</th>\n",
       "      <th>city_code</th>\n",
       "      <th>transaction_id</th>\n",
       "      <th>cust_id</th>\n",
       "      <th>tran_date</th>\n",
       "      <th>prod_subcat_code</th>\n",
       "      <th>prod_cat_code</th>\n",
       "      <th>Qty</th>\n",
       "      <th>Rate</th>\n",
       "      <th>Tax</th>\n",
       "      <th>total_amt</th>\n",
       "      <th>Store_type</th>\n",
       "      <th>_merge</th>\n",
       "      <th>prod_cat</th>\n",
       "      <th>prod_sub_cat_code</th>\n",
       "      <th>prod_subcat</th>\n",
       "    </tr>\n",
       "  </thead>\n",
       "  <tbody>\n",
       "    <tr>\n",
       "      <td>0</td>\n",
       "      <td>268408</td>\n",
       "      <td>02-01-1970</td>\n",
       "      <td>M</td>\n",
       "      <td>4.0</td>\n",
       "      <td>87243835584</td>\n",
       "      <td>268408</td>\n",
       "      <td>13-01-2014</td>\n",
       "      <td>7</td>\n",
       "      <td>5</td>\n",
       "      <td>5</td>\n",
       "      <td>187</td>\n",
       "      <td>98.175</td>\n",
       "      <td>1033.175</td>\n",
       "      <td>TeleShop</td>\n",
       "      <td>both</td>\n",
       "      <td>Books</td>\n",
       "      <td>7</td>\n",
       "      <td>Fiction</td>\n",
       "    </tr>\n",
       "    <tr>\n",
       "      <td>1</td>\n",
       "      <td>268408</td>\n",
       "      <td>02-01-1970</td>\n",
       "      <td>M</td>\n",
       "      <td>4.0</td>\n",
       "      <td>87243835584</td>\n",
       "      <td>268408</td>\n",
       "      <td>13-01-2014</td>\n",
       "      <td>7</td>\n",
       "      <td>5</td>\n",
       "      <td>5</td>\n",
       "      <td>187</td>\n",
       "      <td>98.175</td>\n",
       "      <td>1033.175</td>\n",
       "      <td>TeleShop</td>\n",
       "      <td>both</td>\n",
       "      <td>Books</td>\n",
       "      <td>12</td>\n",
       "      <td>Academic</td>\n",
       "    </tr>\n",
       "  </tbody>\n",
       "</table>\n",
       "</div>"
      ],
      "text/plain": [
       "   customer_Id         DOB Gender  city_code  transaction_id  cust_id  \\\n",
       "0       268408  02-01-1970      M        4.0     87243835584   268408   \n",
       "1       268408  02-01-1970      M        4.0     87243835584   268408   \n",
       "\n",
       "    tran_date  prod_subcat_code  prod_cat_code  Qty  Rate     Tax  total_amt  \\\n",
       "0  13-01-2014                 7              5    5   187  98.175   1033.175   \n",
       "1  13-01-2014                 7              5    5   187  98.175   1033.175   \n",
       "\n",
       "  Store_type _merge prod_cat  prod_sub_cat_code prod_subcat  \n",
       "0   TeleShop   both    Books                  7     Fiction  \n",
       "1   TeleShop   both    Books                 12    Academic  "
      ]
     },
     "execution_count": 5,
     "metadata": {},
     "output_type": "execute_result"
    }
   ],
   "source": [
    "Customer_Final.head(2)"
   ]
  },
  {
   "cell_type": "markdown",
   "metadata": {},
   "source": [
    "### 2. Prepare a summary report for the merged data set."
   ]
  },
  {
   "cell_type": "markdown",
   "metadata": {},
   "source": [
    "####  a. Get the column names and their corresponding data types"
   ]
  },
  {
   "cell_type": "code",
   "execution_count": 6,
   "metadata": {},
   "outputs": [
    {
     "data": {
      "text/plain": [
       "Index(['customer_Id', 'DOB', 'Gender', 'city_code', 'transaction_id',\n",
       "       'cust_id', 'tran_date', 'prod_subcat_code', 'prod_cat_code', 'Qty',\n",
       "       'Rate', 'Tax', 'total_amt', 'Store_type', '_merge', 'prod_cat',\n",
       "       'prod_sub_cat_code', 'prod_subcat'],\n",
       "      dtype='object')"
      ]
     },
     "execution_count": 6,
     "metadata": {},
     "output_type": "execute_result"
    }
   ],
   "source": [
    "Customer_Final.columns"
   ]
  },
  {
   "cell_type": "code",
   "execution_count": 7,
   "metadata": {},
   "outputs": [
    {
     "data": {
      "text/plain": [
       "customer_Id             int64\n",
       "DOB                    object\n",
       "Gender                 object\n",
       "city_code             float64\n",
       "transaction_id          int64\n",
       "cust_id                 int64\n",
       "tran_date              object\n",
       "prod_subcat_code        int64\n",
       "prod_cat_code           int64\n",
       "Qty                     int64\n",
       "Rate                    int64\n",
       "Tax                   float64\n",
       "total_amt             float64\n",
       "Store_type             object\n",
       "_merge               category\n",
       "prod_cat               object\n",
       "prod_sub_cat_code       int64\n",
       "prod_subcat            object\n",
       "dtype: object"
      ]
     },
     "execution_count": 7,
     "metadata": {},
     "output_type": "execute_result"
    }
   ],
   "source": [
    "Customer_Final.dtypes"
   ]
  },
  {
   "cell_type": "markdown",
   "metadata": {},
   "source": [
    "####   b. Top/Bottom 10 observations"
   ]
  },
  {
   "cell_type": "code",
   "execution_count": 8,
   "metadata": {},
   "outputs": [
    {
     "data": {
      "text/html": [
       "<div>\n",
       "<style scoped>\n",
       "    .dataframe tbody tr th:only-of-type {\n",
       "        vertical-align: middle;\n",
       "    }\n",
       "\n",
       "    .dataframe tbody tr th {\n",
       "        vertical-align: top;\n",
       "    }\n",
       "\n",
       "    .dataframe thead th {\n",
       "        text-align: right;\n",
       "    }\n",
       "</style>\n",
       "<table border=\"1\" class=\"dataframe\">\n",
       "  <thead>\n",
       "    <tr style=\"text-align: right;\">\n",
       "      <th></th>\n",
       "      <th>customer_Id</th>\n",
       "      <th>DOB</th>\n",
       "      <th>Gender</th>\n",
       "      <th>city_code</th>\n",
       "      <th>transaction_id</th>\n",
       "      <th>cust_id</th>\n",
       "      <th>tran_date</th>\n",
       "      <th>prod_subcat_code</th>\n",
       "      <th>prod_cat_code</th>\n",
       "      <th>Qty</th>\n",
       "      <th>Rate</th>\n",
       "      <th>Tax</th>\n",
       "      <th>total_amt</th>\n",
       "      <th>Store_type</th>\n",
       "      <th>_merge</th>\n",
       "      <th>prod_cat</th>\n",
       "      <th>prod_sub_cat_code</th>\n",
       "      <th>prod_subcat</th>\n",
       "    </tr>\n",
       "  </thead>\n",
       "  <tbody>\n",
       "    <tr>\n",
       "      <td>0</td>\n",
       "      <td>268408</td>\n",
       "      <td>02-01-1970</td>\n",
       "      <td>M</td>\n",
       "      <td>4.0</td>\n",
       "      <td>87243835584</td>\n",
       "      <td>268408</td>\n",
       "      <td>13-01-2014</td>\n",
       "      <td>7</td>\n",
       "      <td>5</td>\n",
       "      <td>5</td>\n",
       "      <td>187</td>\n",
       "      <td>98.175</td>\n",
       "      <td>1033.175</td>\n",
       "      <td>TeleShop</td>\n",
       "      <td>both</td>\n",
       "      <td>Books</td>\n",
       "      <td>7</td>\n",
       "      <td>Fiction</td>\n",
       "    </tr>\n",
       "    <tr>\n",
       "      <td>1</td>\n",
       "      <td>268408</td>\n",
       "      <td>02-01-1970</td>\n",
       "      <td>M</td>\n",
       "      <td>4.0</td>\n",
       "      <td>87243835584</td>\n",
       "      <td>268408</td>\n",
       "      <td>13-01-2014</td>\n",
       "      <td>7</td>\n",
       "      <td>5</td>\n",
       "      <td>5</td>\n",
       "      <td>187</td>\n",
       "      <td>98.175</td>\n",
       "      <td>1033.175</td>\n",
       "      <td>TeleShop</td>\n",
       "      <td>both</td>\n",
       "      <td>Books</td>\n",
       "      <td>12</td>\n",
       "      <td>Academic</td>\n",
       "    </tr>\n",
       "    <tr>\n",
       "      <td>2</td>\n",
       "      <td>268408</td>\n",
       "      <td>02-01-1970</td>\n",
       "      <td>M</td>\n",
       "      <td>4.0</td>\n",
       "      <td>87243835584</td>\n",
       "      <td>268408</td>\n",
       "      <td>13-01-2014</td>\n",
       "      <td>7</td>\n",
       "      <td>5</td>\n",
       "      <td>5</td>\n",
       "      <td>187</td>\n",
       "      <td>98.175</td>\n",
       "      <td>1033.175</td>\n",
       "      <td>TeleShop</td>\n",
       "      <td>both</td>\n",
       "      <td>Books</td>\n",
       "      <td>10</td>\n",
       "      <td>Non-Fiction</td>\n",
       "    </tr>\n",
       "    <tr>\n",
       "      <td>3</td>\n",
       "      <td>268408</td>\n",
       "      <td>02-01-1970</td>\n",
       "      <td>M</td>\n",
       "      <td>4.0</td>\n",
       "      <td>87243835584</td>\n",
       "      <td>268408</td>\n",
       "      <td>13-01-2014</td>\n",
       "      <td>7</td>\n",
       "      <td>5</td>\n",
       "      <td>5</td>\n",
       "      <td>187</td>\n",
       "      <td>98.175</td>\n",
       "      <td>1033.175</td>\n",
       "      <td>TeleShop</td>\n",
       "      <td>both</td>\n",
       "      <td>Books</td>\n",
       "      <td>11</td>\n",
       "      <td>Children</td>\n",
       "    </tr>\n",
       "    <tr>\n",
       "      <td>4</td>\n",
       "      <td>268408</td>\n",
       "      <td>02-01-1970</td>\n",
       "      <td>M</td>\n",
       "      <td>4.0</td>\n",
       "      <td>87243835584</td>\n",
       "      <td>268408</td>\n",
       "      <td>13-01-2014</td>\n",
       "      <td>7</td>\n",
       "      <td>5</td>\n",
       "      <td>5</td>\n",
       "      <td>187</td>\n",
       "      <td>98.175</td>\n",
       "      <td>1033.175</td>\n",
       "      <td>TeleShop</td>\n",
       "      <td>both</td>\n",
       "      <td>Books</td>\n",
       "      <td>3</td>\n",
       "      <td>Comics</td>\n",
       "    </tr>\n",
       "    <tr>\n",
       "      <td>5</td>\n",
       "      <td>268408</td>\n",
       "      <td>02-01-1970</td>\n",
       "      <td>M</td>\n",
       "      <td>4.0</td>\n",
       "      <td>87243835584</td>\n",
       "      <td>268408</td>\n",
       "      <td>13-01-2014</td>\n",
       "      <td>7</td>\n",
       "      <td>5</td>\n",
       "      <td>5</td>\n",
       "      <td>187</td>\n",
       "      <td>98.175</td>\n",
       "      <td>1033.175</td>\n",
       "      <td>TeleShop</td>\n",
       "      <td>both</td>\n",
       "      <td>Books</td>\n",
       "      <td>6</td>\n",
       "      <td>DIY</td>\n",
       "    </tr>\n",
       "    <tr>\n",
       "      <td>6</td>\n",
       "      <td>268159</td>\n",
       "      <td>08-01-1970</td>\n",
       "      <td>F</td>\n",
       "      <td>8.0</td>\n",
       "      <td>65867401816</td>\n",
       "      <td>268159</td>\n",
       "      <td>31-03-2013</td>\n",
       "      <td>11</td>\n",
       "      <td>5</td>\n",
       "      <td>5</td>\n",
       "      <td>214</td>\n",
       "      <td>112.350</td>\n",
       "      <td>1182.350</td>\n",
       "      <td>MBR</td>\n",
       "      <td>both</td>\n",
       "      <td>Books</td>\n",
       "      <td>7</td>\n",
       "      <td>Fiction</td>\n",
       "    </tr>\n",
       "    <tr>\n",
       "      <td>7</td>\n",
       "      <td>268159</td>\n",
       "      <td>08-01-1970</td>\n",
       "      <td>F</td>\n",
       "      <td>8.0</td>\n",
       "      <td>65867401816</td>\n",
       "      <td>268159</td>\n",
       "      <td>31-03-2013</td>\n",
       "      <td>11</td>\n",
       "      <td>5</td>\n",
       "      <td>5</td>\n",
       "      <td>214</td>\n",
       "      <td>112.350</td>\n",
       "      <td>1182.350</td>\n",
       "      <td>MBR</td>\n",
       "      <td>both</td>\n",
       "      <td>Books</td>\n",
       "      <td>12</td>\n",
       "      <td>Academic</td>\n",
       "    </tr>\n",
       "    <tr>\n",
       "      <td>8</td>\n",
       "      <td>268159</td>\n",
       "      <td>08-01-1970</td>\n",
       "      <td>F</td>\n",
       "      <td>8.0</td>\n",
       "      <td>65867401816</td>\n",
       "      <td>268159</td>\n",
       "      <td>31-03-2013</td>\n",
       "      <td>11</td>\n",
       "      <td>5</td>\n",
       "      <td>5</td>\n",
       "      <td>214</td>\n",
       "      <td>112.350</td>\n",
       "      <td>1182.350</td>\n",
       "      <td>MBR</td>\n",
       "      <td>both</td>\n",
       "      <td>Books</td>\n",
       "      <td>10</td>\n",
       "      <td>Non-Fiction</td>\n",
       "    </tr>\n",
       "    <tr>\n",
       "      <td>9</td>\n",
       "      <td>268159</td>\n",
       "      <td>08-01-1970</td>\n",
       "      <td>F</td>\n",
       "      <td>8.0</td>\n",
       "      <td>65867401816</td>\n",
       "      <td>268159</td>\n",
       "      <td>31-03-2013</td>\n",
       "      <td>11</td>\n",
       "      <td>5</td>\n",
       "      <td>5</td>\n",
       "      <td>214</td>\n",
       "      <td>112.350</td>\n",
       "      <td>1182.350</td>\n",
       "      <td>MBR</td>\n",
       "      <td>both</td>\n",
       "      <td>Books</td>\n",
       "      <td>11</td>\n",
       "      <td>Children</td>\n",
       "    </tr>\n",
       "  </tbody>\n",
       "</table>\n",
       "</div>"
      ],
      "text/plain": [
       "   customer_Id         DOB Gender  city_code  transaction_id  cust_id  \\\n",
       "0       268408  02-01-1970      M        4.0     87243835584   268408   \n",
       "1       268408  02-01-1970      M        4.0     87243835584   268408   \n",
       "2       268408  02-01-1970      M        4.0     87243835584   268408   \n",
       "3       268408  02-01-1970      M        4.0     87243835584   268408   \n",
       "4       268408  02-01-1970      M        4.0     87243835584   268408   \n",
       "5       268408  02-01-1970      M        4.0     87243835584   268408   \n",
       "6       268159  08-01-1970      F        8.0     65867401816   268159   \n",
       "7       268159  08-01-1970      F        8.0     65867401816   268159   \n",
       "8       268159  08-01-1970      F        8.0     65867401816   268159   \n",
       "9       268159  08-01-1970      F        8.0     65867401816   268159   \n",
       "\n",
       "    tran_date  prod_subcat_code  prod_cat_code  Qty  Rate      Tax  total_amt  \\\n",
       "0  13-01-2014                 7              5    5   187   98.175   1033.175   \n",
       "1  13-01-2014                 7              5    5   187   98.175   1033.175   \n",
       "2  13-01-2014                 7              5    5   187   98.175   1033.175   \n",
       "3  13-01-2014                 7              5    5   187   98.175   1033.175   \n",
       "4  13-01-2014                 7              5    5   187   98.175   1033.175   \n",
       "5  13-01-2014                 7              5    5   187   98.175   1033.175   \n",
       "6  31-03-2013                11              5    5   214  112.350   1182.350   \n",
       "7  31-03-2013                11              5    5   214  112.350   1182.350   \n",
       "8  31-03-2013                11              5    5   214  112.350   1182.350   \n",
       "9  31-03-2013                11              5    5   214  112.350   1182.350   \n",
       "\n",
       "  Store_type _merge prod_cat  prod_sub_cat_code  prod_subcat  \n",
       "0   TeleShop   both    Books                  7      Fiction  \n",
       "1   TeleShop   both    Books                 12     Academic  \n",
       "2   TeleShop   both    Books                 10  Non-Fiction  \n",
       "3   TeleShop   both    Books                 11     Children  \n",
       "4   TeleShop   both    Books                  3       Comics  \n",
       "5   TeleShop   both    Books                  6          DIY  \n",
       "6        MBR   both    Books                  7      Fiction  \n",
       "7        MBR   both    Books                 12     Academic  \n",
       "8        MBR   both    Books                 10  Non-Fiction  \n",
       "9        MBR   both    Books                 11     Children  "
      ]
     },
     "execution_count": 8,
     "metadata": {},
     "output_type": "execute_result"
    }
   ],
   "source": [
    "Customer_Final.head(10)"
   ]
  },
  {
   "cell_type": "code",
   "execution_count": 9,
   "metadata": {
    "scrolled": true
   },
   "outputs": [
    {
     "data": {
      "text/html": [
       "<div>\n",
       "<style scoped>\n",
       "    .dataframe tbody tr th:only-of-type {\n",
       "        vertical-align: middle;\n",
       "    }\n",
       "\n",
       "    .dataframe tbody tr th {\n",
       "        vertical-align: top;\n",
       "    }\n",
       "\n",
       "    .dataframe thead th {\n",
       "        text-align: right;\n",
       "    }\n",
       "</style>\n",
       "<table border=\"1\" class=\"dataframe\">\n",
       "  <thead>\n",
       "    <tr style=\"text-align: right;\">\n",
       "      <th></th>\n",
       "      <th>customer_Id</th>\n",
       "      <th>DOB</th>\n",
       "      <th>Gender</th>\n",
       "      <th>city_code</th>\n",
       "      <th>transaction_id</th>\n",
       "      <th>cust_id</th>\n",
       "      <th>tran_date</th>\n",
       "      <th>prod_subcat_code</th>\n",
       "      <th>prod_cat_code</th>\n",
       "      <th>Qty</th>\n",
       "      <th>Rate</th>\n",
       "      <th>Tax</th>\n",
       "      <th>total_amt</th>\n",
       "      <th>Store_type</th>\n",
       "      <th>_merge</th>\n",
       "      <th>prod_cat</th>\n",
       "      <th>prod_sub_cat_code</th>\n",
       "      <th>prod_subcat</th>\n",
       "    </tr>\n",
       "  </thead>\n",
       "  <tbody>\n",
       "    <tr>\n",
       "      <td>99283</td>\n",
       "      <td>274618</td>\n",
       "      <td>09-12-1992</td>\n",
       "      <td>F</td>\n",
       "      <td>7.0</td>\n",
       "      <td>98631113719</td>\n",
       "      <td>274618</td>\n",
       "      <td>19-04-2013</td>\n",
       "      <td>3</td>\n",
       "      <td>1</td>\n",
       "      <td>2</td>\n",
       "      <td>721</td>\n",
       "      <td>151.41</td>\n",
       "      <td>1593.41</td>\n",
       "      <td>e-Shop</td>\n",
       "      <td>both</td>\n",
       "      <td>Clothing</td>\n",
       "      <td>3</td>\n",
       "      <td>Kids</td>\n",
       "    </tr>\n",
       "    <tr>\n",
       "      <td>99284</td>\n",
       "      <td>268097</td>\n",
       "      <td>15-12-1992</td>\n",
       "      <td>F</td>\n",
       "      <td>7.0</td>\n",
       "      <td>71286190189</td>\n",
       "      <td>268097</td>\n",
       "      <td>5/9/2011</td>\n",
       "      <td>4</td>\n",
       "      <td>1</td>\n",
       "      <td>5</td>\n",
       "      <td>818</td>\n",
       "      <td>429.45</td>\n",
       "      <td>4519.45</td>\n",
       "      <td>e-Shop</td>\n",
       "      <td>both</td>\n",
       "      <td>Clothing</td>\n",
       "      <td>4</td>\n",
       "      <td>Mens</td>\n",
       "    </tr>\n",
       "    <tr>\n",
       "      <td>99285</td>\n",
       "      <td>268097</td>\n",
       "      <td>15-12-1992</td>\n",
       "      <td>F</td>\n",
       "      <td>7.0</td>\n",
       "      <td>71286190189</td>\n",
       "      <td>268097</td>\n",
       "      <td>5/9/2011</td>\n",
       "      <td>4</td>\n",
       "      <td>1</td>\n",
       "      <td>5</td>\n",
       "      <td>818</td>\n",
       "      <td>429.45</td>\n",
       "      <td>4519.45</td>\n",
       "      <td>e-Shop</td>\n",
       "      <td>both</td>\n",
       "      <td>Clothing</td>\n",
       "      <td>1</td>\n",
       "      <td>Women</td>\n",
       "    </tr>\n",
       "    <tr>\n",
       "      <td>99286</td>\n",
       "      <td>268097</td>\n",
       "      <td>15-12-1992</td>\n",
       "      <td>F</td>\n",
       "      <td>7.0</td>\n",
       "      <td>71286190189</td>\n",
       "      <td>268097</td>\n",
       "      <td>5/9/2011</td>\n",
       "      <td>4</td>\n",
       "      <td>1</td>\n",
       "      <td>5</td>\n",
       "      <td>818</td>\n",
       "      <td>429.45</td>\n",
       "      <td>4519.45</td>\n",
       "      <td>e-Shop</td>\n",
       "      <td>both</td>\n",
       "      <td>Clothing</td>\n",
       "      <td>3</td>\n",
       "      <td>Kids</td>\n",
       "    </tr>\n",
       "    <tr>\n",
       "      <td>99287</td>\n",
       "      <td>271772</td>\n",
       "      <td>17-12-1992</td>\n",
       "      <td>M</td>\n",
       "      <td>2.0</td>\n",
       "      <td>10440850091</td>\n",
       "      <td>271772</td>\n",
       "      <td>26-04-2013</td>\n",
       "      <td>4</td>\n",
       "      <td>1</td>\n",
       "      <td>4</td>\n",
       "      <td>819</td>\n",
       "      <td>343.98</td>\n",
       "      <td>3619.98</td>\n",
       "      <td>Flagship store</td>\n",
       "      <td>both</td>\n",
       "      <td>Clothing</td>\n",
       "      <td>4</td>\n",
       "      <td>Mens</td>\n",
       "    </tr>\n",
       "    <tr>\n",
       "      <td>99288</td>\n",
       "      <td>271772</td>\n",
       "      <td>17-12-1992</td>\n",
       "      <td>M</td>\n",
       "      <td>2.0</td>\n",
       "      <td>10440850091</td>\n",
       "      <td>271772</td>\n",
       "      <td>26-04-2013</td>\n",
       "      <td>4</td>\n",
       "      <td>1</td>\n",
       "      <td>4</td>\n",
       "      <td>819</td>\n",
       "      <td>343.98</td>\n",
       "      <td>3619.98</td>\n",
       "      <td>Flagship store</td>\n",
       "      <td>both</td>\n",
       "      <td>Clothing</td>\n",
       "      <td>1</td>\n",
       "      <td>Women</td>\n",
       "    </tr>\n",
       "    <tr>\n",
       "      <td>99289</td>\n",
       "      <td>271772</td>\n",
       "      <td>17-12-1992</td>\n",
       "      <td>M</td>\n",
       "      <td>2.0</td>\n",
       "      <td>10440850091</td>\n",
       "      <td>271772</td>\n",
       "      <td>26-04-2013</td>\n",
       "      <td>4</td>\n",
       "      <td>1</td>\n",
       "      <td>4</td>\n",
       "      <td>819</td>\n",
       "      <td>343.98</td>\n",
       "      <td>3619.98</td>\n",
       "      <td>Flagship store</td>\n",
       "      <td>both</td>\n",
       "      <td>Clothing</td>\n",
       "      <td>3</td>\n",
       "      <td>Kids</td>\n",
       "    </tr>\n",
       "    <tr>\n",
       "      <td>99290</td>\n",
       "      <td>269626</td>\n",
       "      <td>27-12-1992</td>\n",
       "      <td>F</td>\n",
       "      <td>5.0</td>\n",
       "      <td>94134051896</td>\n",
       "      <td>269626</td>\n",
       "      <td>7/7/2011</td>\n",
       "      <td>3</td>\n",
       "      <td>1</td>\n",
       "      <td>3</td>\n",
       "      <td>1078</td>\n",
       "      <td>339.57</td>\n",
       "      <td>3573.57</td>\n",
       "      <td>MBR</td>\n",
       "      <td>both</td>\n",
       "      <td>Clothing</td>\n",
       "      <td>4</td>\n",
       "      <td>Mens</td>\n",
       "    </tr>\n",
       "    <tr>\n",
       "      <td>99291</td>\n",
       "      <td>269626</td>\n",
       "      <td>27-12-1992</td>\n",
       "      <td>F</td>\n",
       "      <td>5.0</td>\n",
       "      <td>94134051896</td>\n",
       "      <td>269626</td>\n",
       "      <td>7/7/2011</td>\n",
       "      <td>3</td>\n",
       "      <td>1</td>\n",
       "      <td>3</td>\n",
       "      <td>1078</td>\n",
       "      <td>339.57</td>\n",
       "      <td>3573.57</td>\n",
       "      <td>MBR</td>\n",
       "      <td>both</td>\n",
       "      <td>Clothing</td>\n",
       "      <td>1</td>\n",
       "      <td>Women</td>\n",
       "    </tr>\n",
       "    <tr>\n",
       "      <td>99292</td>\n",
       "      <td>269626</td>\n",
       "      <td>27-12-1992</td>\n",
       "      <td>F</td>\n",
       "      <td>5.0</td>\n",
       "      <td>94134051896</td>\n",
       "      <td>269626</td>\n",
       "      <td>7/7/2011</td>\n",
       "      <td>3</td>\n",
       "      <td>1</td>\n",
       "      <td>3</td>\n",
       "      <td>1078</td>\n",
       "      <td>339.57</td>\n",
       "      <td>3573.57</td>\n",
       "      <td>MBR</td>\n",
       "      <td>both</td>\n",
       "      <td>Clothing</td>\n",
       "      <td>3</td>\n",
       "      <td>Kids</td>\n",
       "    </tr>\n",
       "  </tbody>\n",
       "</table>\n",
       "</div>"
      ],
      "text/plain": [
       "       customer_Id         DOB Gender  city_code  transaction_id  cust_id  \\\n",
       "99283       274618  09-12-1992      F        7.0     98631113719   274618   \n",
       "99284       268097  15-12-1992      F        7.0     71286190189   268097   \n",
       "99285       268097  15-12-1992      F        7.0     71286190189   268097   \n",
       "99286       268097  15-12-1992      F        7.0     71286190189   268097   \n",
       "99287       271772  17-12-1992      M        2.0     10440850091   271772   \n",
       "99288       271772  17-12-1992      M        2.0     10440850091   271772   \n",
       "99289       271772  17-12-1992      M        2.0     10440850091   271772   \n",
       "99290       269626  27-12-1992      F        5.0     94134051896   269626   \n",
       "99291       269626  27-12-1992      F        5.0     94134051896   269626   \n",
       "99292       269626  27-12-1992      F        5.0     94134051896   269626   \n",
       "\n",
       "        tran_date  prod_subcat_code  prod_cat_code  Qty  Rate     Tax  \\\n",
       "99283  19-04-2013                 3              1    2   721  151.41   \n",
       "99284    5/9/2011                 4              1    5   818  429.45   \n",
       "99285    5/9/2011                 4              1    5   818  429.45   \n",
       "99286    5/9/2011                 4              1    5   818  429.45   \n",
       "99287  26-04-2013                 4              1    4   819  343.98   \n",
       "99288  26-04-2013                 4              1    4   819  343.98   \n",
       "99289  26-04-2013                 4              1    4   819  343.98   \n",
       "99290    7/7/2011                 3              1    3  1078  339.57   \n",
       "99291    7/7/2011                 3              1    3  1078  339.57   \n",
       "99292    7/7/2011                 3              1    3  1078  339.57   \n",
       "\n",
       "       total_amt      Store_type _merge  prod_cat  prod_sub_cat_code  \\\n",
       "99283    1593.41          e-Shop   both  Clothing                  3   \n",
       "99284    4519.45          e-Shop   both  Clothing                  4   \n",
       "99285    4519.45          e-Shop   both  Clothing                  1   \n",
       "99286    4519.45          e-Shop   both  Clothing                  3   \n",
       "99287    3619.98  Flagship store   both  Clothing                  4   \n",
       "99288    3619.98  Flagship store   both  Clothing                  1   \n",
       "99289    3619.98  Flagship store   both  Clothing                  3   \n",
       "99290    3573.57             MBR   both  Clothing                  4   \n",
       "99291    3573.57             MBR   both  Clothing                  1   \n",
       "99292    3573.57             MBR   both  Clothing                  3   \n",
       "\n",
       "      prod_subcat  \n",
       "99283        Kids  \n",
       "99284        Mens  \n",
       "99285       Women  \n",
       "99286        Kids  \n",
       "99287        Mens  \n",
       "99288       Women  \n",
       "99289        Kids  \n",
       "99290        Mens  \n",
       "99291       Women  \n",
       "99292        Kids  "
      ]
     },
     "execution_count": 9,
     "metadata": {},
     "output_type": "execute_result"
    }
   ],
   "source": [
    "Customer_Final.tail(10)"
   ]
  },
  {
   "cell_type": "markdown",
   "metadata": {},
   "source": [
    "####  c. “Five-number summary” for continuous variables (min, Q1, median, Q3 and max)"
   ]
  },
  {
   "cell_type": "code",
   "execution_count": 10,
   "metadata": {},
   "outputs": [],
   "source": [
    "continuous_var=Customer_Final._get_numeric_data()"
   ]
  },
  {
   "cell_type": "code",
   "execution_count": 11,
   "metadata": {},
   "outputs": [],
   "source": [
    "cont_num=Customer_Final.iloc[:,[5,6,7,8]]"
   ]
  },
  {
   "cell_type": "code",
   "execution_count": 12,
   "metadata": {},
   "outputs": [
    {
     "data": {
      "text/html": [
       "<div>\n",
       "<style scoped>\n",
       "    .dataframe tbody tr th:only-of-type {\n",
       "        vertical-align: middle;\n",
       "    }\n",
       "\n",
       "    .dataframe tbody tr th {\n",
       "        vertical-align: top;\n",
       "    }\n",
       "\n",
       "    .dataframe thead th {\n",
       "        text-align: right;\n",
       "    }\n",
       "</style>\n",
       "<table border=\"1\" class=\"dataframe\">\n",
       "  <thead>\n",
       "    <tr style=\"text-align: right;\">\n",
       "      <th></th>\n",
       "      <th>count</th>\n",
       "      <th>mean</th>\n",
       "      <th>std</th>\n",
       "      <th>min</th>\n",
       "      <th>25%</th>\n",
       "      <th>50%</th>\n",
       "      <th>75%</th>\n",
       "      <th>max</th>\n",
       "    </tr>\n",
       "  </thead>\n",
       "  <tbody>\n",
       "    <tr>\n",
       "      <td>cust_id</td>\n",
       "      <td>99293.0</td>\n",
       "      <td>271030.010635</td>\n",
       "      <td>2429.333624</td>\n",
       "      <td>266783.0</td>\n",
       "      <td>268956.0</td>\n",
       "      <td>270982.0</td>\n",
       "      <td>273120.0</td>\n",
       "      <td>275265.0</td>\n",
       "    </tr>\n",
       "    <tr>\n",
       "      <td>prod_subcat_code</td>\n",
       "      <td>99293.0</td>\n",
       "      <td>6.796894</td>\n",
       "      <td>3.609439</td>\n",
       "      <td>1.0</td>\n",
       "      <td>4.0</td>\n",
       "      <td>7.0</td>\n",
       "      <td>10.0</td>\n",
       "      <td>12.0</td>\n",
       "    </tr>\n",
       "    <tr>\n",
       "      <td>prod_cat_code</td>\n",
       "      <td>99293.0</td>\n",
       "      <td>4.003243</td>\n",
       "      <td>1.563991</td>\n",
       "      <td>1.0</td>\n",
       "      <td>3.0</td>\n",
       "      <td>5.0</td>\n",
       "      <td>5.0</td>\n",
       "      <td>6.0</td>\n",
       "    </tr>\n",
       "  </tbody>\n",
       "</table>\n",
       "</div>"
      ],
      "text/plain": [
       "                    count           mean          std       min       25%  \\\n",
       "cust_id           99293.0  271030.010635  2429.333624  266783.0  268956.0   \n",
       "prod_subcat_code  99293.0       6.796894     3.609439       1.0       4.0   \n",
       "prod_cat_code     99293.0       4.003243     1.563991       1.0       3.0   \n",
       "\n",
       "                       50%       75%       max  \n",
       "cust_id           270982.0  273120.0  275265.0  \n",
       "prod_subcat_code       7.0      10.0      12.0  \n",
       "prod_cat_code          5.0       5.0       6.0  "
      ]
     },
     "execution_count": 12,
     "metadata": {},
     "output_type": "execute_result"
    }
   ],
   "source": [
    "cont_num.describe().T"
   ]
  },
  {
   "cell_type": "markdown",
   "metadata": {},
   "source": [
    "#### d. Frequency tables for all the categorical variables\n",
    "##### Store type"
   ]
  },
  {
   "cell_type": "code",
   "execution_count": 13,
   "metadata": {},
   "outputs": [
    {
     "data": {
      "text/html": [
       "<div>\n",
       "<style scoped>\n",
       "    .dataframe tbody tr th:only-of-type {\n",
       "        vertical-align: middle;\n",
       "    }\n",
       "\n",
       "    .dataframe tbody tr th {\n",
       "        vertical-align: top;\n",
       "    }\n",
       "\n",
       "    .dataframe thead th {\n",
       "        text-align: right;\n",
       "    }\n",
       "</style>\n",
       "<table border=\"1\" class=\"dataframe\">\n",
       "  <thead>\n",
       "    <tr style=\"text-align: right;\">\n",
       "      <th></th>\n",
       "      <th>TeleShop</th>\n",
       "      <th>MBR</th>\n",
       "      <th>e-shop</th>\n",
       "      <th>Flagshipstore</th>\n",
       "    </tr>\n",
       "  </thead>\n",
       "  <tbody>\n",
       "    <tr>\n",
       "      <td>Male</td>\n",
       "      <td>9767</td>\n",
       "      <td>9687</td>\n",
       "      <td>9159</td>\n",
       "      <td>19589</td>\n",
       "    </tr>\n",
       "    <tr>\n",
       "      <td>Female</td>\n",
       "      <td>10047</td>\n",
       "      <td>10278</td>\n",
       "      <td>10142</td>\n",
       "      <td>20584</td>\n",
       "    </tr>\n",
       "  </tbody>\n",
       "</table>\n",
       "</div>"
      ],
      "text/plain": [
       "        TeleShop    MBR  e-shop  Flagshipstore\n",
       "Male        9767   9687    9159          19589\n",
       "Female     10047  10278   10142          20584"
      ]
     },
     "execution_count": 13,
     "metadata": {},
     "output_type": "execute_result"
    }
   ],
   "source": [
    "freq_table = pd.crosstab(index = Customer_Final['Gender'],\n",
    "                         columns = Customer_Final['Store_type'])\n",
    "freq_table.columns = ['TeleShop','MBR','e-shop','Flagshipstore']\n",
    "freq_table.index = ['Male','Female']\n",
    "freq_table"
   ]
  },
  {
   "cell_type": "markdown",
   "metadata": {},
   "source": [
    "##### Prod_cat"
   ]
  },
  {
   "cell_type": "code",
   "execution_count": 14,
   "metadata": {},
   "outputs": [
    {
     "data": {
      "text/html": [
       "<div>\n",
       "<style scoped>\n",
       "    .dataframe tbody tr th:only-of-type {\n",
       "        vertical-align: middle;\n",
       "    }\n",
       "\n",
       "    .dataframe tbody tr th {\n",
       "        vertical-align: top;\n",
       "    }\n",
       "\n",
       "    .dataframe thead th {\n",
       "        text-align: right;\n",
       "    }\n",
       "</style>\n",
       "<table border=\"1\" class=\"dataframe\">\n",
       "  <thead>\n",
       "    <tr style=\"text-align: right;\">\n",
       "      <th></th>\n",
       "      <th>Books</th>\n",
       "      <th>Bags</th>\n",
       "      <th>Clothing</th>\n",
       "      <th>Footwear</th>\n",
       "      <th>Electronics</th>\n",
       "      <th>Home and kitchen</th>\n",
       "    </tr>\n",
       "  </thead>\n",
       "  <tbody>\n",
       "    <tr>\n",
       "      <td>Male</td>\n",
       "      <td>1988</td>\n",
       "      <td>17694</td>\n",
       "      <td>4317</td>\n",
       "      <td>11640</td>\n",
       "      <td>4587</td>\n",
       "      <td>7976</td>\n",
       "    </tr>\n",
       "    <tr>\n",
       "      <td>Female</td>\n",
       "      <td>2008</td>\n",
       "      <td>18696</td>\n",
       "      <td>4554</td>\n",
       "      <td>12850</td>\n",
       "      <td>4407</td>\n",
       "      <td>8536</td>\n",
       "    </tr>\n",
       "  </tbody>\n",
       "</table>\n",
       "</div>"
      ],
      "text/plain": [
       "        Books   Bags  Clothing  Footwear  Electronics  Home and kitchen\n",
       "Male     1988  17694      4317     11640         4587              7976\n",
       "Female   2008  18696      4554     12850         4407              8536"
      ]
     },
     "execution_count": 14,
     "metadata": {},
     "output_type": "execute_result"
    }
   ],
   "source": [
    "freq_table = pd.crosstab(index = Customer_Final['Gender'],\n",
    "                         columns = Customer_Final['prod_cat'])\n",
    "freq_table.columns = ['Books','Bags','Clothing','Footwear','Electronics','Home and kitchen']\n",
    "freq_table.index = ['Male','Female']\n",
    "freq_table"
   ]
  },
  {
   "cell_type": "markdown",
   "metadata": {},
   "source": [
    "##### Prod_subcat"
   ]
  },
  {
   "cell_type": "code",
   "execution_count": 15,
   "metadata": {},
   "outputs": [
    {
     "data": {
      "text/html": [
       "<div>\n",
       "<style scoped>\n",
       "    .dataframe tbody tr th:only-of-type {\n",
       "        vertical-align: middle;\n",
       "    }\n",
       "\n",
       "    .dataframe tbody tr th {\n",
       "        vertical-align: top;\n",
       "    }\n",
       "\n",
       "    .dataframe thead th {\n",
       "        text-align: right;\n",
       "    }\n",
       "</style>\n",
       "<table border=\"1\" class=\"dataframe\">\n",
       "  <thead>\n",
       "    <tr style=\"text-align: right;\">\n",
       "      <th></th>\n",
       "      <th>Men</th>\n",
       "      <th>Women</th>\n",
       "      <th>Kid</th>\n",
       "      <th>Mobile</th>\n",
       "      <th>Computer</th>\n",
       "      <th>Personal Appliances</th>\n",
       "      <th>Cameras</th>\n",
       "      <th>Audio and video</th>\n",
       "      <th>Fiction</th>\n",
       "      <th>Academic</th>\n",
       "      <th>Non-fiction</th>\n",
       "      <th>Children</th>\n",
       "      <th>Comics</th>\n",
       "      <th>DIY</th>\n",
       "      <th>Furnishing</th>\n",
       "      <th>Kitchen</th>\n",
       "      <th>Bath</th>\n",
       "      <th>Tools</th>\n",
       "    </tr>\n",
       "  </thead>\n",
       "  <tbody>\n",
       "    <tr>\n",
       "      <td>Male</td>\n",
       "      <td>2949</td>\n",
       "      <td>2328</td>\n",
       "      <td>1994</td>\n",
       "      <td>2328</td>\n",
       "      <td>2949</td>\n",
       "      <td>2949</td>\n",
       "      <td>2328</td>\n",
       "      <td>2949</td>\n",
       "      <td>2949</td>\n",
       "      <td>1994</td>\n",
       "      <td>2968</td>\n",
       "      <td>1994</td>\n",
       "      <td>3962</td>\n",
       "      <td>2328</td>\n",
       "      <td>2949</td>\n",
       "      <td>2328</td>\n",
       "      <td>1994</td>\n",
       "      <td>3962</td>\n",
       "    </tr>\n",
       "    <tr>\n",
       "      <td>Female</td>\n",
       "      <td>3116</td>\n",
       "      <td>2570</td>\n",
       "      <td>2134</td>\n",
       "      <td>2570</td>\n",
       "      <td>3116</td>\n",
       "      <td>3116</td>\n",
       "      <td>2570</td>\n",
       "      <td>3116</td>\n",
       "      <td>3116</td>\n",
       "      <td>2134</td>\n",
       "      <td>2987</td>\n",
       "      <td>2134</td>\n",
       "      <td>3991</td>\n",
       "      <td>2570</td>\n",
       "      <td>3116</td>\n",
       "      <td>2570</td>\n",
       "      <td>2134</td>\n",
       "      <td>3991</td>\n",
       "    </tr>\n",
       "  </tbody>\n",
       "</table>\n",
       "</div>"
      ],
      "text/plain": [
       "         Men  Women   Kid  Mobile  Computer  Personal Appliances  Cameras  \\\n",
       "Male    2949   2328  1994    2328      2949                 2949     2328   \n",
       "Female  3116   2570  2134    2570      3116                 3116     2570   \n",
       "\n",
       "        Audio and video  Fiction  Academic  Non-fiction  Children  Comics  \\\n",
       "Male               2949     2949      1994         2968      1994    3962   \n",
       "Female             3116     3116      2134         2987      2134    3991   \n",
       "\n",
       "         DIY  Furnishing  Kitchen  Bath  Tools  \n",
       "Male    2328        2949     2328  1994   3962  \n",
       "Female  2570        3116     2570  2134   3991  "
      ]
     },
     "execution_count": 15,
     "metadata": {},
     "output_type": "execute_result"
    }
   ],
   "source": [
    "freq_table = pd.crosstab(index = Customer_Final['Gender'],\n",
    "                         columns = Customer_Final['prod_subcat'])\n",
    "freq_table.columns = ['Men','Women','Kid','Mobile','Computer','Personal Appliances','Cameras','Audio and video',\n",
    "                      'Fiction','Academic','Non-fiction','Children','Comics','DIY','Furnishing','Kitchen',\n",
    "                      'Bath','Tools']\n",
    "freq_table.index = ['Male','Female']\n",
    "freq_table"
   ]
  },
  {
   "cell_type": "markdown",
   "metadata": {},
   "source": [
    "### 3. Generate histograms for all continuous variables and frequency bars for categorical variables. "
   ]
  },
  {
   "cell_type": "code",
   "execution_count": 16,
   "metadata": {},
   "outputs": [],
   "source": [
    "import matplotlib\n",
    "from matplotlib import pyplot as plt"
   ]
  },
  {
   "cell_type": "markdown",
   "metadata": {},
   "source": [
    "#### Histogram for continous variables -\n",
    "##### 1. Tax"
   ]
  },
  {
   "cell_type": "code",
   "execution_count": 17,
   "metadata": {},
   "outputs": [
    {
     "data": {
      "image/png": "[encoded data removed]",
      "text/plain": [
       "<Figure size 432x288 with 1 Axes>"
      ]
     },
     "metadata": {
      "needs_background": "light"
     },
     "output_type": "display_data"
    }
   ],
   "source": [
    "Tax = Customer_Final['Tax']\n",
    "plt.hist(Tax,color=['yellow'])\n",
    "plt.xlabel('tax')\n",
    "plt.ylabel('Frequency')\n",
    "plt.show()"
   ]
  },
  {
   "cell_type": "markdown",
   "metadata": {},
   "source": [
    "##### 2. Total amount"
   ]
  },
  {
   "cell_type": "code",
   "execution_count": 18,
   "metadata": {},
   "outputs": [
    {
     "data": {
      "image/png": "[encoded data removed]",
      "text/plain": [
       "<Figure size 432x288 with 1 Axes>"
      ]
     },
     "metadata": {
      "needs_background": "light"
     },
     "output_type": "display_data"
    }
   ],
   "source": [
    "Total_Amt = Customer_Final['total_amt']\n",
    "plt.hist(Total_Amt,color = 'Blue')\n",
    "plt.xlabel('Total amount')\n",
    "plt.ylabel('Frequency')\n",
    "plt.show()"
   ]
  },
  {
   "cell_type": "markdown",
   "metadata": {},
   "source": [
    "#### Frequency Bar for Categorical variables -\n",
    "##### 1. Gender"
   ]
  },
  {
   "cell_type": "code",
   "execution_count": 19,
   "metadata": {},
   "outputs": [
    {
     "data": {
      "text/plain": [
       "<matplotlib.axes._subplots.AxesSubplot at 0x1c0ddec7e08>"
      ]
     },
     "execution_count": 19,
     "metadata": {},
     "output_type": "execute_result"
    },
    {
     "data": {
      "image/png": "[encoded data removed]",
      "text/plain": [
       "<Figure size 432x288 with 1 Axes>"
      ]
     },
     "metadata": {
      "needs_background": "light"
     },
     "output_type": "display_data"
    }
   ],
   "source": [
    "Customer_Final['Gender'].value_counts().plot(kind='bar')"
   ]
  },
  {
   "cell_type": "markdown",
   "metadata": {},
   "source": [
    "##### 2. Store type"
   ]
  },
  {
   "cell_type": "code",
   "execution_count": 20,
   "metadata": {},
   "outputs": [
    {
     "data": {
      "text/plain": [
       "<matplotlib.axes._subplots.AxesSubplot at 0x1c0dcc2d848>"
      ]
     },
     "execution_count": 20,
     "metadata": {},
     "output_type": "execute_result"
    },
    {
     "data": {
      "image/png": "[encoded data removed]",
      "text/plain": [
       "<Figure size 432x288 with 1 Axes>"
      ]
     },
     "metadata": {
      "needs_background": "light"
     },
     "output_type": "display_data"
    }
   ],
   "source": [
    "Customer_Final['Store_type'].value_counts().plot(kind ='bar')"
   ]
  },
  {
   "cell_type": "markdown",
   "metadata": {},
   "source": [
    "##### 3. Product category"
   ]
  },
  {
   "cell_type": "code",
   "execution_count": 21,
   "metadata": {},
   "outputs": [
    {
     "data": {
      "text/plain": [
       "<matplotlib.axes._subplots.AxesSubplot at 0x1c0de1f0388>"
      ]
     },
     "execution_count": 21,
     "metadata": {},
     "output_type": "execute_result"
    },
    {
     "data": {
      "image/png": "[encoded data removed]",
      "text/plain": [
       "<Figure size 432x288 with 1 Axes>"
      ]
     },
     "metadata": {
      "needs_background": "light"
     },
     "output_type": "display_data"
    }
   ],
   "source": [
    "Customer_Final['prod_cat'].value_counts().plot(kind= 'bar')"
   ]
  },
  {
   "cell_type": "markdown",
   "metadata": {},
   "source": [
    "##### 4. Product sub category"
   ]
  },
  {
   "cell_type": "code",
   "execution_count": 22,
   "metadata": {},
   "outputs": [
    {
     "data": {
      "text/plain": [
       "<matplotlib.axes._subplots.AxesSubplot at 0x1c0dcc22248>"
      ]
     },
     "execution_count": 22,
     "metadata": {},
     "output_type": "execute_result"
    },
    {
     "data": {
      "image/png": "[encoded data removed]",
      "text/plain": [
       "<Figure size 432x288 with 1 Axes>"
      ]
     },
     "metadata": {
      "needs_background": "light"
     },
     "output_type": "display_data"
    }
   ],
   "source": [
    "Customer_Final['prod_subcat'].value_counts().plot(kind='bar')"
   ]
  },
  {
   "cell_type": "markdown",
   "metadata": {},
   "source": [
    "### 4. Calculate the following information using the merged dataset :\n",
    "#### a. Time period of the available transaction data"
   ]
  },
  {
   "cell_type": "code",
   "execution_count": 24,
   "metadata": {},
   "outputs": [],
   "source": [
    "Customer_Final.tran_date=pd.to_datetime(Customer_Final.tran_date)"
   ]
  },
  {
   "cell_type": "code",
   "execution_count": 26,
   "metadata": {},
   "outputs": [
    {
     "data": {
      "text/plain": [
       "Timestamp('2014-12-02 00:00:00')"
      ]
     },
     "execution_count": 26,
     "metadata": {},
     "output_type": "execute_result"
    }
   ],
   "source": [
    "T_max=Customer_Final.tran_date.max()\n",
    "T_max"
   ]
  },
  {
   "cell_type": "code",
   "execution_count": 27,
   "metadata": {},
   "outputs": [
    {
     "data": {
      "text/plain": [
       "Timestamp('2011-01-02 00:00:00')"
      ]
     },
     "execution_count": 27,
     "metadata": {},
     "output_type": "execute_result"
    }
   ],
   "source": [
    "T_min=Customer_Final.tran_date.min()\n",
    "T_min"
   ]
  },
  {
   "cell_type": "code",
   "execution_count": 28,
   "metadata": {},
   "outputs": [
    {
     "name": "stdout",
     "output_type": "stream",
     "text": [
      "3.9178082191780823\n"
     ]
    }
   ],
   "source": [
    "from datetime import date\n",
    "Time_period=T_max-T_min\n",
    "print(Time_period.days/365)"
   ]
  },
  {
   "cell_type": "markdown",
   "metadata": {},
   "source": [
    "####  b. Count of transactions where the total amount of transaction was negative "
   ]
  },
  {
   "cell_type": "code",
   "execution_count": 30,
   "metadata": {},
   "outputs": [
    {
     "data": {
      "text/plain": [
       "4170892941     15\n",
       "42748068902    12\n",
       "79705520455    12\n",
       "11355539040    12\n",
       "62919354697    12\n",
       "               ..\n",
       "80615805759     2\n",
       "50517418841     2\n",
       "1330248674      2\n",
       "94756211732     2\n",
       "72402739188     2\n",
       "Name: transaction_id, Length: 2059, dtype: int64"
      ]
     },
     "execution_count": 30,
     "metadata": {},
     "output_type": "execute_result"
    }
   ],
   "source": [
    "Customer_Final[Customer_Final['total_amt']<0]['transaction_id'].value_counts()"
   ]
  },
  {
   "cell_type": "code",
   "execution_count": 31,
   "metadata": {},
   "outputs": [
    {
     "data": {
      "text/plain": [
       "9294"
      ]
     },
     "execution_count": 31,
     "metadata": {},
     "output_type": "execute_result"
    }
   ],
   "source": [
    "Customer_Final.transaction_id[Customer_Final.total_amt<0].count()"
   ]
  },
  {
   "cell_type": "markdown",
   "metadata": {},
   "source": [
    "### 5. Analyze which product categories are more popular among females vs male customers."
   ]
  },
  {
   "cell_type": "code",
   "execution_count": 33,
   "metadata": {},
   "outputs": [
    {
     "data": {
      "text/html": [
       "<div>\n",
       "<style scoped>\n",
       "    .dataframe tbody tr th:only-of-type {\n",
       "        vertical-align: middle;\n",
       "    }\n",
       "\n",
       "    .dataframe tbody tr th {\n",
       "        vertical-align: top;\n",
       "    }\n",
       "\n",
       "    .dataframe thead th {\n",
       "        text-align: right;\n",
       "    }\n",
       "</style>\n",
       "<table border=\"1\" class=\"dataframe\">\n",
       "  <thead>\n",
       "    <tr style=\"text-align: right;\">\n",
       "      <th></th>\n",
       "      <th></th>\n",
       "      <th>prod_cat</th>\n",
       "    </tr>\n",
       "    <tr>\n",
       "      <th>Gender</th>\n",
       "      <th>prod_cat</th>\n",
       "      <th></th>\n",
       "    </tr>\n",
       "  </thead>\n",
       "  <tbody>\n",
       "    <tr>\n",
       "      <td rowspan=\"6\" valign=\"top\">F</td>\n",
       "      <td>Bags</td>\n",
       "      <td>1988</td>\n",
       "    </tr>\n",
       "    <tr>\n",
       "      <td>Books</td>\n",
       "      <td>17694</td>\n",
       "    </tr>\n",
       "    <tr>\n",
       "      <td>Clothing</td>\n",
       "      <td>4317</td>\n",
       "    </tr>\n",
       "    <tr>\n",
       "      <td>Electronics</td>\n",
       "      <td>11640</td>\n",
       "    </tr>\n",
       "    <tr>\n",
       "      <td>Footwear</td>\n",
       "      <td>4587</td>\n",
       "    </tr>\n",
       "    <tr>\n",
       "      <td>Home and kitchen</td>\n",
       "      <td>7976</td>\n",
       "    </tr>\n",
       "    <tr>\n",
       "      <td rowspan=\"6\" valign=\"top\">M</td>\n",
       "      <td>Bags</td>\n",
       "      <td>2008</td>\n",
       "    </tr>\n",
       "    <tr>\n",
       "      <td>Books</td>\n",
       "      <td>18696</td>\n",
       "    </tr>\n",
       "    <tr>\n",
       "      <td>Clothing</td>\n",
       "      <td>4554</td>\n",
       "    </tr>\n",
       "    <tr>\n",
       "      <td>Electronics</td>\n",
       "      <td>12850</td>\n",
       "    </tr>\n",
       "    <tr>\n",
       "      <td>Footwear</td>\n",
       "      <td>4407</td>\n",
       "    </tr>\n",
       "    <tr>\n",
       "      <td>Home and kitchen</td>\n",
       "      <td>8536</td>\n",
       "    </tr>\n",
       "  </tbody>\n",
       "</table>\n",
       "</div>"
      ],
      "text/plain": [
       "                         prod_cat\n",
       "Gender prod_cat                  \n",
       "F      Bags                  1988\n",
       "       Books                17694\n",
       "       Clothing              4317\n",
       "       Electronics          11640\n",
       "       Footwear              4587\n",
       "       Home and kitchen      7976\n",
       "M      Bags                  2008\n",
       "       Books                18696\n",
       "       Clothing              4554\n",
       "       Electronics          12850\n",
       "       Footwear              4407\n",
       "       Home and kitchen      8536"
      ]
     },
     "metadata": {},
     "output_type": "display_data"
    }
   ],
   "source": [
    "Pop_prod_cat = Customer_Final.groupby(by = [\"Gender\",\"prod_cat\"])[[\"prod_cat\"]].count()\n",
    "display(Pop_prod_cat)"
   ]
  },
  {
   "cell_type": "code",
   "execution_count": 70,
   "metadata": {},
   "outputs": [],
   "source": [
    "cust1=Customer_Final[[\"Gender\",\"prod_cat\"]]"
   ]
  },
  {
   "cell_type": "markdown",
   "metadata": {},
   "source": [
    "#### For Male"
   ]
  },
  {
   "cell_type": "code",
   "execution_count": 82,
   "metadata": {},
   "outputs": [
    {
     "data": {
      "text/plain": [
       "18696"
      ]
     },
     "execution_count": 82,
     "metadata": {},
     "output_type": "execute_result"
    }
   ],
   "source": [
    "# method 1\n",
    "resM=cust1.loc[(cust1.Gender =='M') ,]\n",
    "resMM=resM.groupby(\"prod_cat\")[\"Gender\"].count().reset_index()\n",
    "max(resMM.Gender)"
   ]
  },
  {
   "cell_type": "code",
   "execution_count": 83,
   "metadata": {},
   "outputs": [
    {
     "data": {
      "text/html": [
       "<div>\n",
       "<style scoped>\n",
       "    .dataframe tbody tr th:only-of-type {\n",
       "        vertical-align: middle;\n",
       "    }\n",
       "\n",
       "    .dataframe tbody tr th {\n",
       "        vertical-align: top;\n",
       "    }\n",
       "\n",
       "    .dataframe thead th {\n",
       "        text-align: right;\n",
       "    }\n",
       "</style>\n",
       "<table border=\"1\" class=\"dataframe\">\n",
       "  <thead>\n",
       "    <tr style=\"text-align: right;\">\n",
       "      <th></th>\n",
       "      <th>prod_cat</th>\n",
       "      <th>Gender</th>\n",
       "    </tr>\n",
       "  </thead>\n",
       "  <tbody>\n",
       "    <tr>\n",
       "      <td>1</td>\n",
       "      <td>Books</td>\n",
       "      <td>18696</td>\n",
       "    </tr>\n",
       "  </tbody>\n",
       "</table>\n",
       "</div>"
      ],
      "text/plain": [
       "  prod_cat  Gender\n",
       "1    Books   18696"
      ]
     },
     "execution_count": 83,
     "metadata": {},
     "output_type": "execute_result"
    }
   ],
   "source": [
    "resMM.loc[resMM.Gender==18696,]"
   ]
  },
  {
   "cell_type": "code",
   "execution_count": 76,
   "metadata": {},
   "outputs": [
    {
     "data": {
      "text/plain": [
       "'The most popular product category in Male customers is : '"
      ]
     },
     "metadata": {},
     "output_type": "display_data"
    },
    {
     "data": {
      "text/plain": [
       "prod_cat\n",
       "Books    39875836.65\n",
       "Name: total_amt, dtype: float64"
      ]
     },
     "metadata": {},
     "output_type": "display_data"
    }
   ],
   "source": [
    "# Method 2 \n",
    "# Popular among Male\n",
    "M = Customer_Final.loc[Customer_Final['Gender']=='M']\n",
    "group_prod = M.groupby(['prod_cat'])['total_amt'].sum()\n",
    "popular_M = group_prod.nlargest(1)\n",
    "display('The most popular product category in Male customers is : ',popular_M)"
   ]
  },
  {
   "cell_type": "markdown",
   "metadata": {},
   "source": [
    "#### For Female"
   ]
  },
  {
   "cell_type": "code",
   "execution_count": 84,
   "metadata": {},
   "outputs": [
    {
     "data": {
      "text/plain": [
       "17694"
      ]
     },
     "execution_count": 84,
     "metadata": {},
     "output_type": "execute_result"
    }
   ],
   "source": [
    "# method 1\n",
    "resF=cust1.loc[cust1.Gender =='F',]\n",
    "resFF=resF.groupby(\"prod_cat\")[\"Gender\"].count().reset_index()\n",
    "max(resFF.Gender)"
   ]
  },
  {
   "cell_type": "code",
   "execution_count": 85,
   "metadata": {},
   "outputs": [
    {
     "data": {
      "text/html": [
       "<div>\n",
       "<style scoped>\n",
       "    .dataframe tbody tr th:only-of-type {\n",
       "        vertical-align: middle;\n",
       "    }\n",
       "\n",
       "    .dataframe tbody tr th {\n",
       "        vertical-align: top;\n",
       "    }\n",
       "\n",
       "    .dataframe thead th {\n",
       "        text-align: right;\n",
       "    }\n",
       "</style>\n",
       "<table border=\"1\" class=\"dataframe\">\n",
       "  <thead>\n",
       "    <tr style=\"text-align: right;\">\n",
       "      <th></th>\n",
       "      <th>prod_cat</th>\n",
       "      <th>Gender</th>\n",
       "    </tr>\n",
       "  </thead>\n",
       "  <tbody>\n",
       "    <tr>\n",
       "      <td>1</td>\n",
       "      <td>Books</td>\n",
       "      <td>17694</td>\n",
       "    </tr>\n",
       "  </tbody>\n",
       "</table>\n",
       "</div>"
      ],
      "text/plain": [
       "  prod_cat  Gender\n",
       "1    Books   17694"
      ]
     },
     "execution_count": 85,
     "metadata": {},
     "output_type": "execute_result"
    }
   ],
   "source": [
    "resFF.loc[resFF.Gender==17694,]"
   ]
  },
  {
   "cell_type": "code",
   "execution_count": 89,
   "metadata": {},
   "outputs": [
    {
     "data": {
      "text/plain": [
       "'The most popular product category in Female customers is : '"
      ]
     },
     "metadata": {},
     "output_type": "display_data"
    },
    {
     "data": {
      "text/plain": [
       "prod_cat\n",
       "Books    36988153.41\n",
       "Name: total_amt, dtype: float64"
      ]
     },
     "metadata": {},
     "output_type": "display_data"
    }
   ],
   "source": [
    "# method 2\n",
    "# Popular among Female\n",
    "F = Customer_Final.loc[Customer_Final['Gender']=='F']\n",
    "group_prod1 = F.groupby(['prod_cat'])['total_amt'].sum()\n",
    "popular_F = group_prod1.nlargest(1)\n",
    "display('The most popular product category in Female customers is : ',popular_F)"
   ]
  },
  {
   "cell_type": "markdown",
   "metadata": {},
   "source": [
    "### 6. Which City code has the maximum customers and what was the percentage of customers from that city?"
   ]
  },
  {
   "cell_type": "code",
   "execution_count": 88,
   "metadata": {},
   "outputs": [
    {
     "data": {
      "text/plain": [
       "'City code which has Maximum customers is : '"
      ]
     },
     "metadata": {},
     "output_type": "display_data"
    },
    {
     "data": {
      "text/plain": [
       "3.0    595\n",
       "Name: city_code, dtype: int64"
      ]
     },
     "metadata": {},
     "output_type": "display_data"
    }
   ],
   "source": [
    "max_cust = Customer['city_code'].value_counts()\n",
    "t = max_cust.nlargest(1)\n",
    "\n",
    "display(\"City code which has Maximum customers is : \",t)"
   ]
  },
  {
   "cell_type": "code",
   "execution_count": 98,
   "metadata": {},
   "outputs": [
    {
     "name": "stdout",
     "output_type": "stream",
     "text": [
      "Percentage of customers from the city code 3 is 10.54% : \n"
     ]
    }
   ],
   "source": [
    "#percentage of customers from city code 3\n",
    "tot_customer = Customer['customer_Id'].count()\n",
    "percent = round((595/tot_customer)*100,2)\n",
    "print(\"Percentage of customers from the city code 3 is {}% : \".format(percent))"
   ]
  },
  {
   "cell_type": "markdown",
   "metadata": {},
   "source": [
    "### 7. Which store type sells the maximum products by value and by quantity? "
   ]
  },
  {
   "cell_type": "code",
   "execution_count": 34,
   "metadata": {},
   "outputs": [
    {
     "data": {
      "text/html": [
       "<div>\n",
       "<style scoped>\n",
       "    .dataframe tbody tr th:only-of-type {\n",
       "        vertical-align: middle;\n",
       "    }\n",
       "\n",
       "    .dataframe tbody tr th {\n",
       "        vertical-align: top;\n",
       "    }\n",
       "\n",
       "    .dataframe thead th {\n",
       "        text-align: right;\n",
       "    }\n",
       "</style>\n",
       "<table border=\"1\" class=\"dataframe\">\n",
       "  <thead>\n",
       "    <tr style=\"text-align: right;\">\n",
       "      <th></th>\n",
       "      <th>Qty</th>\n",
       "      <th>total_amt</th>\n",
       "    </tr>\n",
       "    <tr>\n",
       "      <th>Store_type</th>\n",
       "      <th></th>\n",
       "      <th></th>\n",
       "    </tr>\n",
       "  </thead>\n",
       "  <tbody>\n",
       "    <tr>\n",
       "      <td>e-Shop</td>\n",
       "      <td>98447</td>\n",
       "      <td>8.591575e+07</td>\n",
       "    </tr>\n",
       "  </tbody>\n",
       "</table>\n",
       "</div>"
      ],
      "text/plain": [
       "              Qty     total_amt\n",
       "Store_type                     \n",
       "e-Shop      98447  8.591575e+07"
      ]
     },
     "execution_count": 34,
     "metadata": {},
     "output_type": "execute_result"
    }
   ],
   "source": [
    "Max_prod = Customer_Final.groupby(by = [\"Store_type\"])[\"Qty\",\"total_amt\"].sum().sort_values([\"Qty\",\"total_amt\"],ascending=[False,False]).groupby(level=0).head(1)\n",
    "Max_prod.head(1)"
   ]
  },
  {
   "cell_type": "markdown",
   "metadata": {},
   "source": [
    "### 8. What was the total amount earned from the \"Electronics\" and \"Clothing\" categories from Flagship Stores?"
   ]
  },
  {
   "cell_type": "code",
   "execution_count": 100,
   "metadata": {},
   "outputs": [
    {
     "name": "stdout",
     "output_type": "stream",
     "text": [
      "Total amount earned 14658949.89\n"
     ]
    }
   ],
   "source": [
    "df = pd.DataFrame(Customer_Final)\n",
    "tf = df[df.prod_cat.isin(['Electronics','Clothing']) & (df.Store_type == 'Flagship store')]\n",
    "total = tf.total_amt.sum()\n",
    "print('Total amount earned',total)"
   ]
  },
  {
   "cell_type": "code",
   "execution_count": 36,
   "metadata": {},
   "outputs": [
    {
     "data": {
      "text/html": [
       "<div>\n",
       "<style scoped>\n",
       "    .dataframe tbody tr th:only-of-type {\n",
       "        vertical-align: middle;\n",
       "    }\n",
       "\n",
       "    .dataframe tbody tr th {\n",
       "        vertical-align: top;\n",
       "    }\n",
       "\n",
       "    .dataframe thead th {\n",
       "        text-align: right;\n",
       "    }\n",
       "</style>\n",
       "<table border=\"1\" class=\"dataframe\">\n",
       "  <thead>\n",
       "    <tr style=\"text-align: right;\">\n",
       "      <th></th>\n",
       "      <th></th>\n",
       "      <th>total_amt</th>\n",
       "    </tr>\n",
       "    <tr>\n",
       "      <th>Store_type</th>\n",
       "      <th>prod_cat</th>\n",
       "      <th></th>\n",
       "    </tr>\n",
       "  </thead>\n",
       "  <tbody>\n",
       "    <tr>\n",
       "      <td rowspan=\"2\" valign=\"top\">Flagship store</td>\n",
       "      <td>Clothing</td>\n",
       "      <td>3583269.69</td>\n",
       "    </tr>\n",
       "    <tr>\n",
       "      <td>Electronics</td>\n",
       "      <td>11075680.20</td>\n",
       "    </tr>\n",
       "  </tbody>\n",
       "</table>\n",
       "</div>"
      ],
      "text/plain": [
       "                              total_amt\n",
       "Store_type     prod_cat                \n",
       "Flagship store Clothing      3583269.69\n",
       "               Electronics  11075680.20"
      ]
     },
     "execution_count": 36,
     "metadata": {},
     "output_type": "execute_result"
    }
   ],
   "source": [
    "G1=Customer_Final.loc[(Customer_Final.prod_cat==\"Electronics\")|(Customer_Final.prod_cat==\"Clothing\")]\n",
    "G1=G1.loc[(G1.Store_type==\"Flagship store\")]\n",
    "G1.groupby(by=[\"Store_type\",\"prod_cat\"])[[\"total_amt\"]].sum()"
   ]
  },
  {
   "cell_type": "markdown",
   "metadata": {},
   "source": [
    "### 9. What was the total amount earned from \"Male\" customers under the \"Electronics\" category?"
   ]
  },
  {
   "cell_type": "code",
   "execution_count": 101,
   "metadata": {},
   "outputs": [
    {
     "name": "stdout",
     "output_type": "stream",
     "text": [
      "Total amount earned 28515547.125\n"
     ]
    }
   ],
   "source": [
    "tf1 = df[(df.Gender == 'M') & (df.prod_cat == 'Electronics')]\n",
    "total = tf1.total_amt.sum()\n",
    "print('Total amount earned',total)"
   ]
  },
  {
   "cell_type": "code",
   "execution_count": 39,
   "metadata": {},
   "outputs": [
    {
     "data": {
      "text/html": [
       "<div>\n",
       "<style scoped>\n",
       "    .dataframe tbody tr th:only-of-type {\n",
       "        vertical-align: middle;\n",
       "    }\n",
       "\n",
       "    .dataframe tbody tr th {\n",
       "        vertical-align: top;\n",
       "    }\n",
       "\n",
       "    .dataframe thead th {\n",
       "        text-align: right;\n",
       "    }\n",
       "</style>\n",
       "<table border=\"1\" class=\"dataframe\">\n",
       "  <thead>\n",
       "    <tr style=\"text-align: right;\">\n",
       "      <th></th>\n",
       "      <th></th>\n",
       "      <th>total_amt</th>\n",
       "    </tr>\n",
       "    <tr>\n",
       "      <th>Gender</th>\n",
       "      <th>prod_cat</th>\n",
       "      <th></th>\n",
       "    </tr>\n",
       "  </thead>\n",
       "  <tbody>\n",
       "    <tr>\n",
       "      <td>M</td>\n",
       "      <td>Electronics</td>\n",
       "      <td>2.851555e+07</td>\n",
       "    </tr>\n",
       "  </tbody>\n",
       "</table>\n",
       "</div>"
      ],
      "text/plain": [
       "                       total_amt\n",
       "Gender prod_cat                 \n",
       "M      Electronics  2.851555e+07"
      ]
     },
     "execution_count": 39,
     "metadata": {},
     "output_type": "execute_result"
    }
   ],
   "source": [
    "Tf2=Customer_Final.loc[(Customer_Final.Gender==\"M\")&(Customer_Final.prod_cat==\"Electronics\")]\n",
    "Tf2.groupby(by=[\"Gender\",\"prod_cat\"])[[\"total_amt\"]].sum()"
   ]
  },
  {
   "cell_type": "markdown",
   "metadata": {},
   "source": [
    "### 10. How many customers have more than 10 unique transactions, after removing all transactions which have any negative amounts?"
   ]
  },
  {
   "cell_type": "code",
   "execution_count": 102,
   "metadata": {},
   "outputs": [
    {
     "name": "stdout",
     "output_type": "stream",
     "text": [
      "Total customers having more than 10 unique transactions are -  20876\n"
     ]
    }
   ],
   "source": [
    "df1 = df[(df.total_amt > 0)]\n",
    "ts = df1.transaction_id.nunique()\n",
    "print('Total customers having more than 10 unique transactions are - ',ts)"
   ]
  },
  {
   "cell_type": "markdown",
   "metadata": {},
   "source": [
    "### 11. For all customers aged between 25 - 35, find out:\n",
    "####   a. What was the total amount spent for “Electronics” and “Books” product categories? "
   ]
  },
  {
   "cell_type": "code",
   "execution_count": 105,
   "metadata": {},
   "outputs": [
    {
     "data": {
      "text/html": [
       "<div>\n",
       "<style scoped>\n",
       "    .dataframe tbody tr th:only-of-type {\n",
       "        vertical-align: middle;\n",
       "    }\n",
       "\n",
       "    .dataframe tbody tr th {\n",
       "        vertical-align: top;\n",
       "    }\n",
       "\n",
       "    .dataframe thead th {\n",
       "        text-align: right;\n",
       "    }\n",
       "</style>\n",
       "<table border=\"1\" class=\"dataframe\">\n",
       "  <thead>\n",
       "    <tr style=\"text-align: right;\">\n",
       "      <th></th>\n",
       "      <th>customer_Id</th>\n",
       "      <th>DOB</th>\n",
       "      <th>Gender</th>\n",
       "      <th>city_code</th>\n",
       "      <th>transaction_id</th>\n",
       "      <th>cust_id</th>\n",
       "      <th>tran_date</th>\n",
       "      <th>prod_subcat_code</th>\n",
       "      <th>prod_cat_code</th>\n",
       "      <th>Qty</th>\n",
       "      <th>Rate</th>\n",
       "      <th>Tax</th>\n",
       "      <th>total_amt</th>\n",
       "      <th>Store_type</th>\n",
       "      <th>_merge</th>\n",
       "      <th>prod_cat</th>\n",
       "      <th>prod_sub_cat_code</th>\n",
       "      <th>prod_subcat</th>\n",
       "      <th>age</th>\n",
       "    </tr>\n",
       "  </thead>\n",
       "  <tbody>\n",
       "    <tr>\n",
       "      <td>0</td>\n",
       "      <td>268408</td>\n",
       "      <td>02-01-1970</td>\n",
       "      <td>M</td>\n",
       "      <td>4.0</td>\n",
       "      <td>87243835584</td>\n",
       "      <td>268408</td>\n",
       "      <td>13-01-2014</td>\n",
       "      <td>7</td>\n",
       "      <td>5</td>\n",
       "      <td>5</td>\n",
       "      <td>187</td>\n",
       "      <td>98.175</td>\n",
       "      <td>1033.175</td>\n",
       "      <td>TeleShop</td>\n",
       "      <td>both</td>\n",
       "      <td>Books</td>\n",
       "      <td>7</td>\n",
       "      <td>Fiction</td>\n",
       "      <td>50</td>\n",
       "    </tr>\n",
       "    <tr>\n",
       "      <td>1</td>\n",
       "      <td>268408</td>\n",
       "      <td>02-01-1970</td>\n",
       "      <td>M</td>\n",
       "      <td>4.0</td>\n",
       "      <td>87243835584</td>\n",
       "      <td>268408</td>\n",
       "      <td>13-01-2014</td>\n",
       "      <td>7</td>\n",
       "      <td>5</td>\n",
       "      <td>5</td>\n",
       "      <td>187</td>\n",
       "      <td>98.175</td>\n",
       "      <td>1033.175</td>\n",
       "      <td>TeleShop</td>\n",
       "      <td>both</td>\n",
       "      <td>Books</td>\n",
       "      <td>12</td>\n",
       "      <td>Academic</td>\n",
       "      <td>50</td>\n",
       "    </tr>\n",
       "  </tbody>\n",
       "</table>\n",
       "</div>"
      ],
      "text/plain": [
       "   customer_Id         DOB Gender  city_code  transaction_id  cust_id  \\\n",
       "0       268408  02-01-1970      M        4.0     87243835584   268408   \n",
       "1       268408  02-01-1970      M        4.0     87243835584   268408   \n",
       "\n",
       "    tran_date  prod_subcat_code  prod_cat_code  Qty  Rate     Tax  total_amt  \\\n",
       "0  13-01-2014                 7              5    5   187  98.175   1033.175   \n",
       "1  13-01-2014                 7              5    5   187  98.175   1033.175   \n",
       "\n",
       "  Store_type _merge prod_cat  prod_sub_cat_code prod_subcat  age  \n",
       "0   TeleShop   both    Books                  7     Fiction   50  \n",
       "1   TeleShop   both    Books                 12    Academic   50  "
      ]
     },
     "execution_count": 105,
     "metadata": {},
     "output_type": "execute_result"
    }
   ],
   "source": [
    "curr_year = pd.to_datetime('today').year\n",
    "dob_year = pd.DatetimeIndex(df['DOB']).year          #extract year from DOB\n",
    "x = dob_year-100                                               # for the years which belongs to 60's\n",
    "v = curr_year - x\n",
    "y = curr_year - dob_year\n",
    "df['age'] = (np.where(dob_year > curr_year,v,y))\n",
    "df.head(2)"
   ]
  },
  {
   "cell_type": "code",
   "execution_count": 106,
   "metadata": {},
   "outputs": [
    {
     "name": "stdout",
     "output_type": "stream",
     "text": [
      "Total amount earned 38905651.06999999\n"
     ]
    }
   ],
   "source": [
    "total = df.loc[((df.age >25) & (df.age <35)) & ((df.prod_cat=='Books') | (df.prod_cat=='Electronics'))]['total_amt'].sum()\n",
    "print('Total amount earned',total)"
   ]
  },
  {
   "cell_type": "markdown",
   "metadata": {},
   "source": [
    "####  b. What was the total amount spent by these customers between 1st Jan, 2014 to 1st Mar, 2014?\n"
   ]
  },
  {
   "cell_type": "code",
   "execution_count": 107,
   "metadata": {},
   "outputs": [
    {
     "name": "stdout",
     "output_type": "stream",
     "text": [
      "Total amount spent by the customer -  5591225.965\n"
     ]
    }
   ],
   "source": [
    "Customer_Final['tran_date'] = pd.to_datetime(Customer_Final['tran_date'])\n",
    "\n",
    "t_date = Customer_Final[(Customer_Final['tran_date'] > '2014-01-01') & (Customer_Final['tran_date'] < '2014-03-01')]\n",
    "total_amount = t_date.total_amt.sum()\n",
    "print('Total amount spent by the customer - ',total_amount)"
   ]
  },
  {
   "cell_type": "code",
   "execution_count": null,
   "metadata": {},
   "outputs": [],
   "source": []
  }
 ],
 "metadata": {
  "kernelspec": {
   "display_name": "Python 3",
   "language": "python",
   "name": "python3"
  },
  "language_info": {
   "codemirror_mode": {
    "name": "ipython",
    "version": 3
   },
   "file_extension": ".py",
   "mimetype": "text/x-python",
   "name": "python",
   "nbconvert_exporter": "python",
   "pygments_lexer": "ipython3",
   "version": "3.7.4"
  }
 },
 "nbformat": 4,
 "nbformat_minor": 2
}
